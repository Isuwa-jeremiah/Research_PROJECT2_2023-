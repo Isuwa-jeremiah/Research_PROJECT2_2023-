{
 "cells": [
  {
   "cell_type": "code",
   "execution_count": 1,
   "id": "f7244c17",
   "metadata": {},
   "outputs": [],
   "source": [
    "import numpy as np\n",
    "import pandas as pd\n",
    "from sklearn.neighbors import KNeighborsClassifier\n",
    "from sklearn.model_selection import train_test_split\n",
    "from FS.ssa import jfs   # change this to switch algorithm \n",
    "import matplotlib.pyplot as plt\n",
    "from sklearn.preprocessing import LabelEncoder\n",
    "from sklearn.metrics import accuracy_score\n",
    "from IPython.display import display\n",
    "import seaborn as sns\n",
    "\n",
    "from sklearn.preprocessing import StandardScaler\n",
    "from sklearn.pipeline import make_pipeline\n",
    "from sklearn.feature_selection import SelectKBest\n",
    "from sklearn.feature_selection import chi2, mutual_info_classif, f_classif\n",
    "from skrebate import ReliefF\n",
    "from sklearn.svm import SVC\n",
    "from sklearn.neighbors import KNeighborsClassifier\n",
    "from sklearn.model_selection import cross_val_score\n",
    "from datetime import datetime as dt\n",
    "import time\n",
    "from sklearn.metrics import roc_curve, auc\n",
    "from sklearn.metrics import confusion_matrix\n",
    "from sklearn.metrics import classification_report, accuracy_score"
   ]
  },
  {
   "cell_type": "code",
   "execution_count": 2,
   "id": "8c2af6e5",
   "metadata": {},
   "outputs": [],
   "source": [
    "Df = pd.read_csv(\"Datasets/colon_cancer.csv\")"
   ]
  },
  {
   "cell_type": "code",
   "execution_count": 3,
   "id": "531ce69d",
   "metadata": {},
   "outputs": [
    {
     "data": {
      "text/html": [
       "<div>\n",
       "<style scoped>\n",
       "    .dataframe tbody tr th:only-of-type {\n",
       "        vertical-align: middle;\n",
       "    }\n",
       "\n",
       "    .dataframe tbody tr th {\n",
       "        vertical-align: top;\n",
       "    }\n",
       "\n",
       "    .dataframe thead th {\n",
       "        text-align: right;\n",
       "    }\n",
       "</style>\n",
       "<table border=\"1\" class=\"dataframe\">\n",
       "  <thead>\n",
       "    <tr style=\"text-align: right;\">\n",
       "      <th></th>\n",
       "      <th>samples</th>\n",
       "      <th>V1</th>\n",
       "      <th>V2</th>\n",
       "      <th>V3</th>\n",
       "      <th>V4</th>\n",
       "      <th>V5</th>\n",
       "      <th>V6</th>\n",
       "      <th>V7</th>\n",
       "      <th>V8</th>\n",
       "      <th>V9</th>\n",
       "      <th>...</th>\n",
       "      <th>V1992</th>\n",
       "      <th>V1993</th>\n",
       "      <th>V1994</th>\n",
       "      <th>V1995</th>\n",
       "      <th>V1996</th>\n",
       "      <th>V1997</th>\n",
       "      <th>V1998</th>\n",
       "      <th>V1999</th>\n",
       "      <th>V2000</th>\n",
       "      <th>response</th>\n",
       "    </tr>\n",
       "  </thead>\n",
       "  <tbody>\n",
       "    <tr>\n",
       "      <th>0</th>\n",
       "      <td>1</td>\n",
       "      <td>3.622527</td>\n",
       "      <td>3.308826</td>\n",
       "      <td>2.986154</td>\n",
       "      <td>2.710537</td>\n",
       "      <td>2.091310</td>\n",
       "      <td>3.119126</td>\n",
       "      <td>2.745517</td>\n",
       "      <td>2.421422</td>\n",
       "      <td>3.352726</td>\n",
       "      <td>...</td>\n",
       "      <td>-1.026668</td>\n",
       "      <td>-0.983356</td>\n",
       "      <td>-0.531104</td>\n",
       "      <td>-1.142698</td>\n",
       "      <td>-1.108899</td>\n",
       "      <td>-0.520386</td>\n",
       "      <td>-0.314519</td>\n",
       "      <td>-1.764190</td>\n",
       "      <td>-2.749956</td>\n",
       "      <td>normal</td>\n",
       "    </tr>\n",
       "    <tr>\n",
       "      <th>1</th>\n",
       "      <td>2</td>\n",
       "      <td>3.470277</td>\n",
       "      <td>3.681609</td>\n",
       "      <td>3.425553</td>\n",
       "      <td>3.046109</td>\n",
       "      <td>2.402400</td>\n",
       "      <td>2.460531</td>\n",
       "      <td>2.150405</td>\n",
       "      <td>2.256655</td>\n",
       "      <td>3.020793</td>\n",
       "      <td>...</td>\n",
       "      <td>-1.232504</td>\n",
       "      <td>-3.063926</td>\n",
       "      <td>0.156281</td>\n",
       "      <td>-0.687025</td>\n",
       "      <td>-0.777089</td>\n",
       "      <td>-1.093455</td>\n",
       "      <td>-1.213857</td>\n",
       "      <td>-1.062064</td>\n",
       "      <td>-2.126398</td>\n",
       "      <td>normal</td>\n",
       "    </tr>\n",
       "    <tr>\n",
       "      <th>2</th>\n",
       "      <td>3</td>\n",
       "      <td>3.018884</td>\n",
       "      <td>2.783578</td>\n",
       "      <td>2.569772</td>\n",
       "      <td>3.211390</td>\n",
       "      <td>2.707560</td>\n",
       "      <td>2.632832</td>\n",
       "      <td>2.385288</td>\n",
       "      <td>3.001862</td>\n",
       "      <td>2.633958</td>\n",
       "      <td>...</td>\n",
       "      <td>-0.757976</td>\n",
       "      <td>0.318488</td>\n",
       "      <td>-1.251425</td>\n",
       "      <td>-1.099859</td>\n",
       "      <td>-0.130810</td>\n",
       "      <td>-2.748068</td>\n",
       "      <td>-1.014786</td>\n",
       "      <td>-2.260031</td>\n",
       "      <td>-1.496573</td>\n",
       "      <td>normal</td>\n",
       "    </tr>\n",
       "    <tr>\n",
       "      <th>3</th>\n",
       "      <td>4</td>\n",
       "      <td>3.097915</td>\n",
       "      <td>2.863956</td>\n",
       "      <td>2.772942</td>\n",
       "      <td>3.186238</td>\n",
       "      <td>2.354082</td>\n",
       "      <td>2.758829</td>\n",
       "      <td>2.103475</td>\n",
       "      <td>2.932663</td>\n",
       "      <td>3.176524</td>\n",
       "      <td>...</td>\n",
       "      <td>-1.175068</td>\n",
       "      <td>0.079492</td>\n",
       "      <td>-1.074746</td>\n",
       "      <td>-0.465491</td>\n",
       "      <td>-0.454513</td>\n",
       "      <td>-1.804783</td>\n",
       "      <td>-1.606205</td>\n",
       "      <td>-1.223450</td>\n",
       "      <td>-1.066161</td>\n",
       "      <td>normal</td>\n",
       "    </tr>\n",
       "    <tr>\n",
       "      <th>4</th>\n",
       "      <td>5</td>\n",
       "      <td>3.007979</td>\n",
       "      <td>2.905384</td>\n",
       "      <td>2.560548</td>\n",
       "      <td>3.253039</td>\n",
       "      <td>2.336800</td>\n",
       "      <td>3.040030</td>\n",
       "      <td>2.881109</td>\n",
       "      <td>2.548497</td>\n",
       "      <td>2.852425</td>\n",
       "      <td>...</td>\n",
       "      <td>-0.490512</td>\n",
       "      <td>-0.081214</td>\n",
       "      <td>-1.155846</td>\n",
       "      <td>-0.889998</td>\n",
       "      <td>-0.527681</td>\n",
       "      <td>-1.636024</td>\n",
       "      <td>-1.210256</td>\n",
       "      <td>-1.232686</td>\n",
       "      <td>-1.618022</td>\n",
       "      <td>normal</td>\n",
       "    </tr>\n",
       "  </tbody>\n",
       "</table>\n",
       "<p>5 rows × 2002 columns</p>\n",
       "</div>"
      ],
      "text/plain": [
       "   samples        V1        V2        V3        V4        V5        V6  \\\n",
       "0        1  3.622527  3.308826  2.986154  2.710537  2.091310  3.119126   \n",
       "1        2  3.470277  3.681609  3.425553  3.046109  2.402400  2.460531   \n",
       "2        3  3.018884  2.783578  2.569772  3.211390  2.707560  2.632832   \n",
       "3        4  3.097915  2.863956  2.772942  3.186238  2.354082  2.758829   \n",
       "4        5  3.007979  2.905384  2.560548  3.253039  2.336800  3.040030   \n",
       "\n",
       "         V7        V8        V9  ...     V1992     V1993     V1994     V1995  \\\n",
       "0  2.745517  2.421422  3.352726  ... -1.026668 -0.983356 -0.531104 -1.142698   \n",
       "1  2.150405  2.256655  3.020793  ... -1.232504 -3.063926  0.156281 -0.687025   \n",
       "2  2.385288  3.001862  2.633958  ... -0.757976  0.318488 -1.251425 -1.099859   \n",
       "3  2.103475  2.932663  3.176524  ... -1.175068  0.079492 -1.074746 -0.465491   \n",
       "4  2.881109  2.548497  2.852425  ... -0.490512 -0.081214 -1.155846 -0.889998   \n",
       "\n",
       "      V1996     V1997     V1998     V1999     V2000  response  \n",
       "0 -1.108899 -0.520386 -0.314519 -1.764190 -2.749956    normal  \n",
       "1 -0.777089 -1.093455 -1.213857 -1.062064 -2.126398    normal  \n",
       "2 -0.130810 -2.748068 -1.014786 -2.260031 -1.496573    normal  \n",
       "3 -0.454513 -1.804783 -1.606205 -1.223450 -1.066161    normal  \n",
       "4 -0.527681 -1.636024 -1.210256 -1.232686 -1.618022    normal  \n",
       "\n",
       "[5 rows x 2002 columns]"
      ]
     },
     "execution_count": 3,
     "metadata": {},
     "output_type": "execute_result"
    }
   ],
   "source": [
    "Df.head(5)"
   ]
  },
  {
   "cell_type": "code",
   "execution_count": 4,
   "id": "40c0b9c3",
   "metadata": {},
   "outputs": [
    {
     "data": {
      "text/plain": [
       "samples       int64\n",
       "V1          float64\n",
       "V2          float64\n",
       "V3          float64\n",
       "V4          float64\n",
       "             ...   \n",
       "V1997       float64\n",
       "V1998       float64\n",
       "V1999       float64\n",
       "V2000       float64\n",
       "response     object\n",
       "Length: 2002, dtype: object"
      ]
     },
     "execution_count": 4,
     "metadata": {},
     "output_type": "execute_result"
    }
   ],
   "source": [
    "Df.isnull().sum()\n",
    "Df.dtypes"
   ]
  },
  {
   "cell_type": "code",
   "execution_count": 5,
   "id": "010d347c",
   "metadata": {},
   "outputs": [
    {
     "data": {
      "text/plain": [
       "(62, 2002)"
      ]
     },
     "execution_count": 5,
     "metadata": {},
     "output_type": "execute_result"
    }
   ],
   "source": [
    "Df.shape"
   ]
  },
  {
   "cell_type": "code",
   "execution_count": 6,
   "id": "c1f2d228",
   "metadata": {},
   "outputs": [
    {
     "data": {
      "text/plain": [
       "samples     0\n",
       "V1          0\n",
       "V2          0\n",
       "V3          0\n",
       "V4          0\n",
       "           ..\n",
       "V1997       0\n",
       "V1998       0\n",
       "V1999       0\n",
       "V2000       0\n",
       "response    0\n",
       "Length: 2002, dtype: int64"
      ]
     },
     "execution_count": 6,
     "metadata": {},
     "output_type": "execute_result"
    }
   ],
   "source": [
    "Df.isna().sum()"
   ]
  },
  {
   "cell_type": "code",
   "execution_count": 7,
   "id": "e1400313",
   "metadata": {},
   "outputs": [
    {
     "name": "stderr",
     "output_type": "stream",
     "text": [
      "C:\\Users\\ISUWA JEREMIAH\\AppData\\Local\\Temp\\ipykernel_26368\\83483696.py:1: FutureWarning: Dropping of nuisance columns in DataFrame reductions (with 'numeric_only=None') is deprecated; in a future version this will raise TypeError.  Select only valid columns before calling the reduction.\n",
      "  Df = Df.fillna(Df.mean())\n"
     ]
    }
   ],
   "source": [
    "Df = Df.fillna(Df.mean())"
   ]
  },
  {
   "cell_type": "code",
   "execution_count": 8,
   "id": "eef61c2b",
   "metadata": {},
   "outputs": [
    {
     "data": {
      "text/plain": [
       "response\n",
       "tumer     40\n",
       "normal    22\n",
       "dtype: int64"
      ]
     },
     "execution_count": 8,
     "metadata": {},
     "output_type": "execute_result"
    }
   ],
   "source": [
    "Df.value_counts('response')"
   ]
  },
  {
   "cell_type": "code",
   "execution_count": 9,
   "id": "761abd74",
   "metadata": {},
   "outputs": [
    {
     "data": {
      "text/html": [
       "<div>\n",
       "<style scoped>\n",
       "    .dataframe tbody tr th:only-of-type {\n",
       "        vertical-align: middle;\n",
       "    }\n",
       "\n",
       "    .dataframe tbody tr th {\n",
       "        vertical-align: top;\n",
       "    }\n",
       "\n",
       "    .dataframe thead th {\n",
       "        text-align: right;\n",
       "    }\n",
       "</style>\n",
       "<table border=\"1\" class=\"dataframe\">\n",
       "  <thead>\n",
       "    <tr style=\"text-align: right;\">\n",
       "      <th></th>\n",
       "      <th>samples</th>\n",
       "      <th>V1</th>\n",
       "      <th>V2</th>\n",
       "      <th>V3</th>\n",
       "      <th>V4</th>\n",
       "      <th>V5</th>\n",
       "      <th>V6</th>\n",
       "      <th>V7</th>\n",
       "      <th>V8</th>\n",
       "      <th>V9</th>\n",
       "      <th>...</th>\n",
       "      <th>V1992</th>\n",
       "      <th>V1993</th>\n",
       "      <th>V1994</th>\n",
       "      <th>V1995</th>\n",
       "      <th>V1996</th>\n",
       "      <th>V1997</th>\n",
       "      <th>V1998</th>\n",
       "      <th>V1999</th>\n",
       "      <th>V2000</th>\n",
       "      <th>response</th>\n",
       "    </tr>\n",
       "  </thead>\n",
       "  <tbody>\n",
       "    <tr>\n",
       "      <th>0</th>\n",
       "      <td>1</td>\n",
       "      <td>3.622527</td>\n",
       "      <td>3.308826</td>\n",
       "      <td>2.986154</td>\n",
       "      <td>2.710537</td>\n",
       "      <td>2.091310</td>\n",
       "      <td>3.119126</td>\n",
       "      <td>2.745517</td>\n",
       "      <td>2.421422</td>\n",
       "      <td>3.352726</td>\n",
       "      <td>...</td>\n",
       "      <td>-1.026668</td>\n",
       "      <td>-0.983356</td>\n",
       "      <td>-0.531104</td>\n",
       "      <td>-1.142698</td>\n",
       "      <td>-1.108899</td>\n",
       "      <td>-0.520386</td>\n",
       "      <td>-0.314519</td>\n",
       "      <td>-1.764190</td>\n",
       "      <td>-2.749956</td>\n",
       "      <td>0</td>\n",
       "    </tr>\n",
       "    <tr>\n",
       "      <th>1</th>\n",
       "      <td>2</td>\n",
       "      <td>3.470277</td>\n",
       "      <td>3.681609</td>\n",
       "      <td>3.425553</td>\n",
       "      <td>3.046109</td>\n",
       "      <td>2.402400</td>\n",
       "      <td>2.460531</td>\n",
       "      <td>2.150405</td>\n",
       "      <td>2.256655</td>\n",
       "      <td>3.020793</td>\n",
       "      <td>...</td>\n",
       "      <td>-1.232504</td>\n",
       "      <td>-3.063926</td>\n",
       "      <td>0.156281</td>\n",
       "      <td>-0.687025</td>\n",
       "      <td>-0.777089</td>\n",
       "      <td>-1.093455</td>\n",
       "      <td>-1.213857</td>\n",
       "      <td>-1.062064</td>\n",
       "      <td>-2.126398</td>\n",
       "      <td>0</td>\n",
       "    </tr>\n",
       "    <tr>\n",
       "      <th>2</th>\n",
       "      <td>3</td>\n",
       "      <td>3.018884</td>\n",
       "      <td>2.783578</td>\n",
       "      <td>2.569772</td>\n",
       "      <td>3.211390</td>\n",
       "      <td>2.707560</td>\n",
       "      <td>2.632832</td>\n",
       "      <td>2.385288</td>\n",
       "      <td>3.001862</td>\n",
       "      <td>2.633958</td>\n",
       "      <td>...</td>\n",
       "      <td>-0.757976</td>\n",
       "      <td>0.318488</td>\n",
       "      <td>-1.251425</td>\n",
       "      <td>-1.099859</td>\n",
       "      <td>-0.130810</td>\n",
       "      <td>-2.748068</td>\n",
       "      <td>-1.014786</td>\n",
       "      <td>-2.260031</td>\n",
       "      <td>-1.496573</td>\n",
       "      <td>0</td>\n",
       "    </tr>\n",
       "    <tr>\n",
       "      <th>3</th>\n",
       "      <td>4</td>\n",
       "      <td>3.097915</td>\n",
       "      <td>2.863956</td>\n",
       "      <td>2.772942</td>\n",
       "      <td>3.186238</td>\n",
       "      <td>2.354082</td>\n",
       "      <td>2.758829</td>\n",
       "      <td>2.103475</td>\n",
       "      <td>2.932663</td>\n",
       "      <td>3.176524</td>\n",
       "      <td>...</td>\n",
       "      <td>-1.175068</td>\n",
       "      <td>0.079492</td>\n",
       "      <td>-1.074746</td>\n",
       "      <td>-0.465491</td>\n",
       "      <td>-0.454513</td>\n",
       "      <td>-1.804783</td>\n",
       "      <td>-1.606205</td>\n",
       "      <td>-1.223450</td>\n",
       "      <td>-1.066161</td>\n",
       "      <td>0</td>\n",
       "    </tr>\n",
       "    <tr>\n",
       "      <th>4</th>\n",
       "      <td>5</td>\n",
       "      <td>3.007979</td>\n",
       "      <td>2.905384</td>\n",
       "      <td>2.560548</td>\n",
       "      <td>3.253039</td>\n",
       "      <td>2.336800</td>\n",
       "      <td>3.040030</td>\n",
       "      <td>2.881109</td>\n",
       "      <td>2.548497</td>\n",
       "      <td>2.852425</td>\n",
       "      <td>...</td>\n",
       "      <td>-0.490512</td>\n",
       "      <td>-0.081214</td>\n",
       "      <td>-1.155846</td>\n",
       "      <td>-0.889998</td>\n",
       "      <td>-0.527681</td>\n",
       "      <td>-1.636024</td>\n",
       "      <td>-1.210256</td>\n",
       "      <td>-1.232686</td>\n",
       "      <td>-1.618022</td>\n",
       "      <td>0</td>\n",
       "    </tr>\n",
       "    <tr>\n",
       "      <th>...</th>\n",
       "      <td>...</td>\n",
       "      <td>...</td>\n",
       "      <td>...</td>\n",
       "      <td>...</td>\n",
       "      <td>...</td>\n",
       "      <td>...</td>\n",
       "      <td>...</td>\n",
       "      <td>...</td>\n",
       "      <td>...</td>\n",
       "      <td>...</td>\n",
       "      <td>...</td>\n",
       "      <td>...</td>\n",
       "      <td>...</td>\n",
       "      <td>...</td>\n",
       "      <td>...</td>\n",
       "      <td>...</td>\n",
       "      <td>...</td>\n",
       "      <td>...</td>\n",
       "      <td>...</td>\n",
       "      <td>...</td>\n",
       "      <td>...</td>\n",
       "    </tr>\n",
       "    <tr>\n",
       "      <th>57</th>\n",
       "      <td>58</td>\n",
       "      <td>3.458313</td>\n",
       "      <td>3.300057</td>\n",
       "      <td>3.183344</td>\n",
       "      <td>2.414429</td>\n",
       "      <td>2.416091</td>\n",
       "      <td>3.132199</td>\n",
       "      <td>2.681662</td>\n",
       "      <td>2.395896</td>\n",
       "      <td>2.582450</td>\n",
       "      <td>...</td>\n",
       "      <td>-2.553492</td>\n",
       "      <td>0.330376</td>\n",
       "      <td>-0.130772</td>\n",
       "      <td>-0.201221</td>\n",
       "      <td>-0.116515</td>\n",
       "      <td>-1.127999</td>\n",
       "      <td>-0.580251</td>\n",
       "      <td>-1.854906</td>\n",
       "      <td>-2.108392</td>\n",
       "      <td>1</td>\n",
       "    </tr>\n",
       "    <tr>\n",
       "      <th>58</th>\n",
       "      <td>59</td>\n",
       "      <td>3.292722</td>\n",
       "      <td>3.036032</td>\n",
       "      <td>2.919174</td>\n",
       "      <td>2.348794</td>\n",
       "      <td>2.732307</td>\n",
       "      <td>3.477663</td>\n",
       "      <td>2.969739</td>\n",
       "      <td>2.625833</td>\n",
       "      <td>2.694350</td>\n",
       "      <td>...</td>\n",
       "      <td>-1.623482</td>\n",
       "      <td>0.379994</td>\n",
       "      <td>-0.860314</td>\n",
       "      <td>-1.162912</td>\n",
       "      <td>-0.390431</td>\n",
       "      <td>-2.851668</td>\n",
       "      <td>-0.654357</td>\n",
       "      <td>-2.010479</td>\n",
       "      <td>-1.720458</td>\n",
       "      <td>1</td>\n",
       "    </tr>\n",
       "    <tr>\n",
       "      <th>59</th>\n",
       "      <td>60</td>\n",
       "      <td>3.427067</td>\n",
       "      <td>3.290822</td>\n",
       "      <td>3.043461</td>\n",
       "      <td>2.987181</td>\n",
       "      <td>1.887169</td>\n",
       "      <td>3.367934</td>\n",
       "      <td>2.561288</td>\n",
       "      <td>2.670872</td>\n",
       "      <td>3.074067</td>\n",
       "      <td>...</td>\n",
       "      <td>-1.180208</td>\n",
       "      <td>-0.315230</td>\n",
       "      <td>-0.758786</td>\n",
       "      <td>-0.766010</td>\n",
       "      <td>-1.835627</td>\n",
       "      <td>-0.372652</td>\n",
       "      <td>-0.745123</td>\n",
       "      <td>-1.341634</td>\n",
       "      <td>-2.125245</td>\n",
       "      <td>1</td>\n",
       "    </tr>\n",
       "    <tr>\n",
       "      <th>60</th>\n",
       "      <td>61</td>\n",
       "      <td>3.548026</td>\n",
       "      <td>3.111441</td>\n",
       "      <td>2.856634</td>\n",
       "      <td>2.884745</td>\n",
       "      <td>2.319726</td>\n",
       "      <td>3.095435</td>\n",
       "      <td>2.435996</td>\n",
       "      <td>2.079020</td>\n",
       "      <td>2.802260</td>\n",
       "      <td>...</td>\n",
       "      <td>-0.686787</td>\n",
       "      <td>0.186172</td>\n",
       "      <td>-0.744081</td>\n",
       "      <td>-0.483135</td>\n",
       "      <td>0.055639</td>\n",
       "      <td>-0.896491</td>\n",
       "      <td>-0.364456</td>\n",
       "      <td>-1.632671</td>\n",
       "      <td>-1.968168</td>\n",
       "      <td>1</td>\n",
       "    </tr>\n",
       "    <tr>\n",
       "      <th>61</th>\n",
       "      <td>62</td>\n",
       "      <td>3.232619</td>\n",
       "      <td>1.873071</td>\n",
       "      <td>1.590814</td>\n",
       "      <td>2.985209</td>\n",
       "      <td>2.413044</td>\n",
       "      <td>2.322439</td>\n",
       "      <td>2.875669</td>\n",
       "      <td>2.082932</td>\n",
       "      <td>3.187986</td>\n",
       "      <td>...</td>\n",
       "      <td>-0.310002</td>\n",
       "      <td>0.320609</td>\n",
       "      <td>-1.573597</td>\n",
       "      <td>-0.292545</td>\n",
       "      <td>0.121966</td>\n",
       "      <td>-0.018427</td>\n",
       "      <td>-0.124522</td>\n",
       "      <td>-1.058606</td>\n",
       "      <td>-1.667064</td>\n",
       "      <td>1</td>\n",
       "    </tr>\n",
       "  </tbody>\n",
       "</table>\n",
       "<p>62 rows × 2002 columns</p>\n",
       "</div>"
      ],
      "text/plain": [
       "    samples        V1        V2        V3        V4        V5        V6  \\\n",
       "0         1  3.622527  3.308826  2.986154  2.710537  2.091310  3.119126   \n",
       "1         2  3.470277  3.681609  3.425553  3.046109  2.402400  2.460531   \n",
       "2         3  3.018884  2.783578  2.569772  3.211390  2.707560  2.632832   \n",
       "3         4  3.097915  2.863956  2.772942  3.186238  2.354082  2.758829   \n",
       "4         5  3.007979  2.905384  2.560548  3.253039  2.336800  3.040030   \n",
       "..      ...       ...       ...       ...       ...       ...       ...   \n",
       "57       58  3.458313  3.300057  3.183344  2.414429  2.416091  3.132199   \n",
       "58       59  3.292722  3.036032  2.919174  2.348794  2.732307  3.477663   \n",
       "59       60  3.427067  3.290822  3.043461  2.987181  1.887169  3.367934   \n",
       "60       61  3.548026  3.111441  2.856634  2.884745  2.319726  3.095435   \n",
       "61       62  3.232619  1.873071  1.590814  2.985209  2.413044  2.322439   \n",
       "\n",
       "          V7        V8        V9  ...     V1992     V1993     V1994     V1995  \\\n",
       "0   2.745517  2.421422  3.352726  ... -1.026668 -0.983356 -0.531104 -1.142698   \n",
       "1   2.150405  2.256655  3.020793  ... -1.232504 -3.063926  0.156281 -0.687025   \n",
       "2   2.385288  3.001862  2.633958  ... -0.757976  0.318488 -1.251425 -1.099859   \n",
       "3   2.103475  2.932663  3.176524  ... -1.175068  0.079492 -1.074746 -0.465491   \n",
       "4   2.881109  2.548497  2.852425  ... -0.490512 -0.081214 -1.155846 -0.889998   \n",
       "..       ...       ...       ...  ...       ...       ...       ...       ...   \n",
       "57  2.681662  2.395896  2.582450  ... -2.553492  0.330376 -0.130772 -0.201221   \n",
       "58  2.969739  2.625833  2.694350  ... -1.623482  0.379994 -0.860314 -1.162912   \n",
       "59  2.561288  2.670872  3.074067  ... -1.180208 -0.315230 -0.758786 -0.766010   \n",
       "60  2.435996  2.079020  2.802260  ... -0.686787  0.186172 -0.744081 -0.483135   \n",
       "61  2.875669  2.082932  3.187986  ... -0.310002  0.320609 -1.573597 -0.292545   \n",
       "\n",
       "       V1996     V1997     V1998     V1999     V2000  response  \n",
       "0  -1.108899 -0.520386 -0.314519 -1.764190 -2.749956         0  \n",
       "1  -0.777089 -1.093455 -1.213857 -1.062064 -2.126398         0  \n",
       "2  -0.130810 -2.748068 -1.014786 -2.260031 -1.496573         0  \n",
       "3  -0.454513 -1.804783 -1.606205 -1.223450 -1.066161         0  \n",
       "4  -0.527681 -1.636024 -1.210256 -1.232686 -1.618022         0  \n",
       "..       ...       ...       ...       ...       ...       ...  \n",
       "57 -0.116515 -1.127999 -0.580251 -1.854906 -2.108392         1  \n",
       "58 -0.390431 -2.851668 -0.654357 -2.010479 -1.720458         1  \n",
       "59 -1.835627 -0.372652 -0.745123 -1.341634 -2.125245         1  \n",
       "60  0.055639 -0.896491 -0.364456 -1.632671 -1.968168         1  \n",
       "61  0.121966 -0.018427 -0.124522 -1.058606 -1.667064         1  \n",
       "\n",
       "[62 rows x 2002 columns]"
      ]
     },
     "execution_count": 9,
     "metadata": {},
     "output_type": "execute_result"
    }
   ],
   "source": [
    "Df['response'] = LabelEncoder().fit_transform(Df['response'])\n",
    "Df"
   ]
  },
  {
   "cell_type": "code",
   "execution_count": 10,
   "id": "ba0b1727",
   "metadata": {},
   "outputs": [],
   "source": [
    "Df = Df.apply(pd.to_numeric)"
   ]
  },
  {
   "cell_type": "code",
   "execution_count": 11,
   "id": "c26d44aa",
   "metadata": {},
   "outputs": [],
   "source": [
    "Df1 = Df.copy()"
   ]
  },
  {
   "cell_type": "code",
   "execution_count": 12,
   "id": "80a096ac",
   "metadata": {},
   "outputs": [],
   "source": [
    "x = Df1.drop(['response'], axis = 1)"
   ]
  },
  {
   "cell_type": "code",
   "execution_count": 13,
   "id": "e1fee54d",
   "metadata": {},
   "outputs": [],
   "source": [
    "y = Df.loc[:,['response']]"
   ]
  },
  {
   "cell_type": "code",
   "execution_count": 14,
   "id": "3139d3c8",
   "metadata": {},
   "outputs": [],
   "source": [
    "scaler = StandardScaler()\n",
    "xs = scaler.fit_transform(x)\n",
    "xs = np.abs(xs)"
   ]
  },
  {
   "cell_type": "code",
   "execution_count": 15,
   "id": "0df3c25e",
   "metadata": {},
   "outputs": [
    {
     "data": {
      "text/html": [
       "<style>#sk-container-id-1 {color: black;background-color: white;}#sk-container-id-1 pre{padding: 0;}#sk-container-id-1 div.sk-toggleable {background-color: white;}#sk-container-id-1 label.sk-toggleable__label {cursor: pointer;display: block;width: 100%;margin-bottom: 0;padding: 0.3em;box-sizing: border-box;text-align: center;}#sk-container-id-1 label.sk-toggleable__label-arrow:before {content: \"▸\";float: left;margin-right: 0.25em;color: #696969;}#sk-container-id-1 label.sk-toggleable__label-arrow:hover:before {color: black;}#sk-container-id-1 div.sk-estimator:hover label.sk-toggleable__label-arrow:before {color: black;}#sk-container-id-1 div.sk-toggleable__content {max-height: 0;max-width: 0;overflow: hidden;text-align: left;background-color: #f0f8ff;}#sk-container-id-1 div.sk-toggleable__content pre {margin: 0.2em;color: black;border-radius: 0.25em;background-color: #f0f8ff;}#sk-container-id-1 input.sk-toggleable__control:checked~div.sk-toggleable__content {max-height: 200px;max-width: 100%;overflow: auto;}#sk-container-id-1 input.sk-toggleable__control:checked~label.sk-toggleable__label-arrow:before {content: \"▾\";}#sk-container-id-1 div.sk-estimator input.sk-toggleable__control:checked~label.sk-toggleable__label {background-color: #d4ebff;}#sk-container-id-1 div.sk-label input.sk-toggleable__control:checked~label.sk-toggleable__label {background-color: #d4ebff;}#sk-container-id-1 input.sk-hidden--visually {border: 0;clip: rect(1px 1px 1px 1px);clip: rect(1px, 1px, 1px, 1px);height: 1px;margin: -1px;overflow: hidden;padding: 0;position: absolute;width: 1px;}#sk-container-id-1 div.sk-estimator {font-family: monospace;background-color: #f0f8ff;border: 1px dotted black;border-radius: 0.25em;box-sizing: border-box;margin-bottom: 0.5em;}#sk-container-id-1 div.sk-estimator:hover {background-color: #d4ebff;}#sk-container-id-1 div.sk-parallel-item::after {content: \"\";width: 100%;border-bottom: 1px solid gray;flex-grow: 1;}#sk-container-id-1 div.sk-label:hover label.sk-toggleable__label {background-color: #d4ebff;}#sk-container-id-1 div.sk-serial::before {content: \"\";position: absolute;border-left: 1px solid gray;box-sizing: border-box;top: 0;bottom: 0;left: 50%;z-index: 0;}#sk-container-id-1 div.sk-serial {display: flex;flex-direction: column;align-items: center;background-color: white;padding-right: 0.2em;padding-left: 0.2em;position: relative;}#sk-container-id-1 div.sk-item {position: relative;z-index: 1;}#sk-container-id-1 div.sk-parallel {display: flex;align-items: stretch;justify-content: center;background-color: white;position: relative;}#sk-container-id-1 div.sk-item::before, #sk-container-id-1 div.sk-parallel-item::before {content: \"\";position: absolute;border-left: 1px solid gray;box-sizing: border-box;top: 0;bottom: 0;left: 50%;z-index: -1;}#sk-container-id-1 div.sk-parallel-item {display: flex;flex-direction: column;z-index: 1;position: relative;background-color: white;}#sk-container-id-1 div.sk-parallel-item:first-child::after {align-self: flex-end;width: 50%;}#sk-container-id-1 div.sk-parallel-item:last-child::after {align-self: flex-start;width: 50%;}#sk-container-id-1 div.sk-parallel-item:only-child::after {width: 0;}#sk-container-id-1 div.sk-dashed-wrapped {border: 1px dashed gray;margin: 0 0.4em 0.5em 0.4em;box-sizing: border-box;padding-bottom: 0.4em;background-color: white;}#sk-container-id-1 div.sk-label label {font-family: monospace;font-weight: bold;display: inline-block;line-height: 1.2em;}#sk-container-id-1 div.sk-label-container {text-align: center;}#sk-container-id-1 div.sk-container {/* jupyter's `normalize.less` sets `[hidden] { display: none; }` but bootstrap.min.css set `[hidden] { display: none !important; }` so we also need the `!important` here to be able to override the default hidden behavior on the sphinx rendered scikit-learn.org. See: https://github.com/scikit-learn/scikit-learn/issues/21755 */display: inline-block !important;position: relative;}#sk-container-id-1 div.sk-text-repr-fallback {display: none;}</style><div id=\"sk-container-id-1\" class=\"sk-top-container\"><div class=\"sk-text-repr-fallback\"><pre>SelectKBest(k=50, score_func=&lt;function chi2 at 0x000001589F4A5550&gt;)</pre><b>In a Jupyter environment, please rerun this cell to show the HTML representation or trust the notebook. <br />On GitHub, the HTML representation is unable to render, please try loading this page with nbviewer.org.</b></div><div class=\"sk-container\" hidden><div class=\"sk-item\"><div class=\"sk-estimator sk-toggleable\"><input class=\"sk-toggleable__control sk-hidden--visually\" id=\"sk-estimator-id-1\" type=\"checkbox\" checked><label for=\"sk-estimator-id-1\" class=\"sk-toggleable__label sk-toggleable__label-arrow\">SelectKBest</label><div class=\"sk-toggleable__content\"><pre>SelectKBest(k=50, score_func=&lt;function chi2 at 0x000001589F4A5550&gt;)</pre></div></div></div></div></div>"
      ],
      "text/plain": [
       "SelectKBest(k=50, score_func=<function chi2 at 0x000001589F4A5550>)"
      ]
     },
     "execution_count": 15,
     "metadata": {},
     "output_type": "execute_result"
    }
   ],
   "source": [
    "fitt = SelectKBest(score_func = chi2, k = 50)\n",
    "fitt.fit(xs,y)"
   ]
  },
  {
   "cell_type": "code",
   "execution_count": 16,
   "id": "0af98622",
   "metadata": {},
   "outputs": [],
   "source": [
    "TabelScores = pd.DataFrame(fitt.scores_)\n",
    "TabelFeatures = pd.DataFrame(x.columns)\n",
    "GeneralTable = pd.concat([TabelFeatures,TabelScores], axis = 1)\n",
    "GeneralTable.columns = ['Features', 'scores']"
   ]
  },
  {
   "cell_type": "code",
   "execution_count": 17,
   "id": "da678665",
   "metadata": {},
   "outputs": [
    {
     "data": {
      "text/html": [
       "<div>\n",
       "<style scoped>\n",
       "    .dataframe tbody tr th:only-of-type {\n",
       "        vertical-align: middle;\n",
       "    }\n",
       "\n",
       "    .dataframe tbody tr th {\n",
       "        vertical-align: top;\n",
       "    }\n",
       "\n",
       "    .dataframe thead th {\n",
       "        text-align: right;\n",
       "    }\n",
       "</style>\n",
       "<table border=\"1\" class=\"dataframe\">\n",
       "  <thead>\n",
       "    <tr style=\"text-align: right;\">\n",
       "      <th></th>\n",
       "      <th>Features</th>\n",
       "      <th>scores</th>\n",
       "    </tr>\n",
       "  </thead>\n",
       "  <tbody>\n",
       "    <tr>\n",
       "      <th>765</th>\n",
       "      <td>V765</td>\n",
       "      <td>5.051053e+00</td>\n",
       "    </tr>\n",
       "    <tr>\n",
       "      <th>776</th>\n",
       "      <td>V776</td>\n",
       "      <td>4.787880e+00</td>\n",
       "    </tr>\n",
       "    <tr>\n",
       "      <th>997</th>\n",
       "      <td>V997</td>\n",
       "      <td>4.740720e+00</td>\n",
       "    </tr>\n",
       "    <tr>\n",
       "      <th>279</th>\n",
       "      <td>V279</td>\n",
       "      <td>4.540237e+00</td>\n",
       "    </tr>\n",
       "    <tr>\n",
       "      <th>1388</th>\n",
       "      <td>V1388</td>\n",
       "      <td>4.246525e+00</td>\n",
       "    </tr>\n",
       "    <tr>\n",
       "      <th>...</th>\n",
       "      <td>...</td>\n",
       "      <td>...</td>\n",
       "    </tr>\n",
       "    <tr>\n",
       "      <th>1859</th>\n",
       "      <td>V1859</td>\n",
       "      <td>3.276105e-06</td>\n",
       "    </tr>\n",
       "    <tr>\n",
       "      <th>48</th>\n",
       "      <td>V48</td>\n",
       "      <td>2.231276e-06</td>\n",
       "    </tr>\n",
       "    <tr>\n",
       "      <th>1080</th>\n",
       "      <td>V1080</td>\n",
       "      <td>1.416719e-06</td>\n",
       "    </tr>\n",
       "    <tr>\n",
       "      <th>413</th>\n",
       "      <td>V413</td>\n",
       "      <td>1.018183e-06</td>\n",
       "    </tr>\n",
       "    <tr>\n",
       "      <th>1188</th>\n",
       "      <td>V1188</td>\n",
       "      <td>2.117663e-09</td>\n",
       "    </tr>\n",
       "  </tbody>\n",
       "</table>\n",
       "<p>2001 rows × 2 columns</p>\n",
       "</div>"
      ],
      "text/plain": [
       "     Features        scores\n",
       "765      V765  5.051053e+00\n",
       "776      V776  4.787880e+00\n",
       "997      V997  4.740720e+00\n",
       "279      V279  4.540237e+00\n",
       "1388    V1388  4.246525e+00\n",
       "...       ...           ...\n",
       "1859    V1859  3.276105e-06\n",
       "48        V48  2.231276e-06\n",
       "1080    V1080  1.416719e-06\n",
       "413      V413  1.018183e-06\n",
       "1188    V1188  2.117663e-09\n",
       "\n",
       "[2001 rows x 2 columns]"
      ]
     },
     "execution_count": 17,
     "metadata": {},
     "output_type": "execute_result"
    }
   ],
   "source": [
    "GeneralTable.sort_values(by = 'scores', ascending = False)"
   ]
  },
  {
   "cell_type": "code",
   "execution_count": 18,
   "id": "f3e691ca",
   "metadata": {},
   "outputs": [],
   "source": [
    "xs = fitt.transform(xs)"
   ]
  },
  {
   "cell_type": "code",
   "execution_count": 19,
   "id": "e38608d3",
   "metadata": {},
   "outputs": [],
   "source": [
    "y = y.values"
   ]
  },
  {
   "cell_type": "code",
   "execution_count": 20,
   "id": "f90a3630",
   "metadata": {},
   "outputs": [
    {
     "data": {
      "text/plain": [
       "(62, 50)"
      ]
     },
     "execution_count": 20,
     "metadata": {},
     "output_type": "execute_result"
    }
   ],
   "source": [
    "xs.shape"
   ]
  },
  {
   "cell_type": "code",
   "execution_count": 21,
   "id": "6cf5de12",
   "metadata": {},
   "outputs": [],
   "source": [
    "#We now split our data into traning and testing sets (70:30)\n",
    "x_train, x_test, y_train, y_test = train_test_split(xs, y, test_size = 0.3 , stratify = y)\n",
    "fold = {'xt': x_train, 'yt': y_train, 'xv': x_test, 'yv': y_test}"
   ]
  },
  {
   "cell_type": "code",
   "execution_count": 22,
   "id": "1ba66809",
   "metadata": {},
   "outputs": [
    {
     "data": {
      "text/plain": [
       "\"\\n## Firefly Algorithm (FA)\\n#FA contains 4 extra parameters\\n\\nalpha  = 1       # constant\\nbeta0  = 1       # light amplitude\\ngamma  = 1       # absorbtion coefficient\\ntheta  = 0.97    # control alpha\\noptions = {'k':K, 'fold':fold, 'N':N, 'T':T, 'alpha':alpha, 'beta0':beta0, 'gamma':gamma, 'theta':theta}\""
      ]
     },
     "execution_count": 22,
     "metadata": {},
     "output_type": "execute_result"
    }
   ],
   "source": [
    "#Now we set our parameters\n",
    "K = 5 #K value in KNN\n",
    "N = 20 #Population size\n",
    "T = 20 #Max iter\n",
    "options = {'k': K, 'fold': fold, 'N': N, 'T': T}\n",
    "\n",
    "'''\n",
    "## Firefly Algorithm (FA)\n",
    "#FA contains 4 extra parameters\n",
    "\n",
    "alpha  = 1       # constant\n",
    "beta0  = 1       # light amplitude\n",
    "gamma  = 1       # absorbtion coefficient\n",
    "theta  = 0.97    # control alpha\n",
    "options = {'k':K, 'fold':fold, 'N':N, 'T':T, 'alpha':alpha, 'beta0':beta0, 'gamma':gamma, 'theta':theta}'''"
   ]
  },
  {
   "cell_type": "code",
   "execution_count": 23,
   "id": "c839b1f7",
   "metadata": {},
   "outputs": [
    {
     "name": "stdout",
     "output_type": "stream",
     "text": [
      "Iteration: 1\n",
      "Best (SSA): 0.15991578947368426\n",
      "Iteration: 2\n",
      "Best (SSA): 0.15991578947368426\n",
      "Iteration: 3\n",
      "Best (SSA): 0.10881052631578947\n",
      "Iteration: 4\n",
      "Best (SSA): 0.10881052631578947\n",
      "Iteration: 5\n",
      "Best (SSA): 0.10881052631578947\n",
      "Iteration: 6\n",
      "Best (SSA): 0.10881052631578947\n",
      "Iteration: 7\n",
      "Best (SSA): 0.10881052631578947\n",
      "Iteration: 8\n",
      "Best (SSA): 0.10881052631578947\n",
      "Iteration: 9\n",
      "Best (SSA): 0.10881052631578947\n",
      "Iteration: 10\n",
      "Best (SSA): 0.10881052631578947\n",
      "Iteration: 11\n",
      "Best (SSA): 0.10881052631578947\n",
      "Iteration: 12\n",
      "Best (SSA): 0.10881052631578947\n",
      "Iteration: 13\n",
      "Best (SSA): 0.10881052631578947\n",
      "Iteration: 14\n",
      "Best (SSA): 0.10881052631578947\n",
      "Iteration: 15\n",
      "Best (SSA): 0.10881052631578947\n",
      "Iteration: 16\n",
      "Best (SSA): 0.10861052631578946\n",
      "Iteration: 17\n",
      "Best (SSA): 0.10861052631578946\n",
      "Iteration: 18\n",
      "Best (SSA): 0.10861052631578946\n",
      "Iteration: 19\n",
      "Best (SSA): 0.10861052631578946\n",
      "Iteration: 20\n",
      "Best (SSA): 0.10861052631578946\n"
     ]
    }
   ],
   "source": [
    "#Now we perform our feature selection by calling the module jfs\n",
    "fmdl = jfs(xs, y, options) #feature selection model\n",
    "sf = fmdl['sf'] #index of selected features"
   ]
  },
  {
   "cell_type": "code",
   "execution_count": 24,
   "id": "bb342ad8",
   "metadata": {},
   "outputs": [
    {
     "name": "stdout",
     "output_type": "stream",
     "text": [
      "[ 0  4  8  9 10 11 13 14 19 20 21 23 25 31 32 34 37 38 42 45 46 49]\n"
     ]
    }
   ],
   "source": [
    "print(sf)"
   ]
  },
  {
   "cell_type": "code",
   "execution_count": 25,
   "id": "924d6d83",
   "metadata": {},
   "outputs": [],
   "source": [
    "#Model with selected features\n",
    "num_train = np.size(x_train,0)#checks the number of samples slected in the x_train and assign to num_train\n",
    "num_test = np.size(x_test, 0)#checks the number of samples slected in the x_test and assign to num_train\n",
    "xtrain = x_train[:,sf]\n",
    "ytrain = y_train.reshape(num_train)\n",
    "xtest = x_test[:,sf]\n",
    "ytest = y_test.reshape(num_test) #I suffered fixing the bug"
   ]
  },
  {
   "cell_type": "code",
   "execution_count": 26,
   "id": "90f471f2",
   "metadata": {},
   "outputs": [
    {
     "data": {
      "text/html": [
       "<style>#sk-container-id-2 {color: black;background-color: white;}#sk-container-id-2 pre{padding: 0;}#sk-container-id-2 div.sk-toggleable {background-color: white;}#sk-container-id-2 label.sk-toggleable__label {cursor: pointer;display: block;width: 100%;margin-bottom: 0;padding: 0.3em;box-sizing: border-box;text-align: center;}#sk-container-id-2 label.sk-toggleable__label-arrow:before {content: \"▸\";float: left;margin-right: 0.25em;color: #696969;}#sk-container-id-2 label.sk-toggleable__label-arrow:hover:before {color: black;}#sk-container-id-2 div.sk-estimator:hover label.sk-toggleable__label-arrow:before {color: black;}#sk-container-id-2 div.sk-toggleable__content {max-height: 0;max-width: 0;overflow: hidden;text-align: left;background-color: #f0f8ff;}#sk-container-id-2 div.sk-toggleable__content pre {margin: 0.2em;color: black;border-radius: 0.25em;background-color: #f0f8ff;}#sk-container-id-2 input.sk-toggleable__control:checked~div.sk-toggleable__content {max-height: 200px;max-width: 100%;overflow: auto;}#sk-container-id-2 input.sk-toggleable__control:checked~label.sk-toggleable__label-arrow:before {content: \"▾\";}#sk-container-id-2 div.sk-estimator input.sk-toggleable__control:checked~label.sk-toggleable__label {background-color: #d4ebff;}#sk-container-id-2 div.sk-label input.sk-toggleable__control:checked~label.sk-toggleable__label {background-color: #d4ebff;}#sk-container-id-2 input.sk-hidden--visually {border: 0;clip: rect(1px 1px 1px 1px);clip: rect(1px, 1px, 1px, 1px);height: 1px;margin: -1px;overflow: hidden;padding: 0;position: absolute;width: 1px;}#sk-container-id-2 div.sk-estimator {font-family: monospace;background-color: #f0f8ff;border: 1px dotted black;border-radius: 0.25em;box-sizing: border-box;margin-bottom: 0.5em;}#sk-container-id-2 div.sk-estimator:hover {background-color: #d4ebff;}#sk-container-id-2 div.sk-parallel-item::after {content: \"\";width: 100%;border-bottom: 1px solid gray;flex-grow: 1;}#sk-container-id-2 div.sk-label:hover label.sk-toggleable__label {background-color: #d4ebff;}#sk-container-id-2 div.sk-serial::before {content: \"\";position: absolute;border-left: 1px solid gray;box-sizing: border-box;top: 0;bottom: 0;left: 50%;z-index: 0;}#sk-container-id-2 div.sk-serial {display: flex;flex-direction: column;align-items: center;background-color: white;padding-right: 0.2em;padding-left: 0.2em;position: relative;}#sk-container-id-2 div.sk-item {position: relative;z-index: 1;}#sk-container-id-2 div.sk-parallel {display: flex;align-items: stretch;justify-content: center;background-color: white;position: relative;}#sk-container-id-2 div.sk-item::before, #sk-container-id-2 div.sk-parallel-item::before {content: \"\";position: absolute;border-left: 1px solid gray;box-sizing: border-box;top: 0;bottom: 0;left: 50%;z-index: -1;}#sk-container-id-2 div.sk-parallel-item {display: flex;flex-direction: column;z-index: 1;position: relative;background-color: white;}#sk-container-id-2 div.sk-parallel-item:first-child::after {align-self: flex-end;width: 50%;}#sk-container-id-2 div.sk-parallel-item:last-child::after {align-self: flex-start;width: 50%;}#sk-container-id-2 div.sk-parallel-item:only-child::after {width: 0;}#sk-container-id-2 div.sk-dashed-wrapped {border: 1px dashed gray;margin: 0 0.4em 0.5em 0.4em;box-sizing: border-box;padding-bottom: 0.4em;background-color: white;}#sk-container-id-2 div.sk-label label {font-family: monospace;font-weight: bold;display: inline-block;line-height: 1.2em;}#sk-container-id-2 div.sk-label-container {text-align: center;}#sk-container-id-2 div.sk-container {/* jupyter's `normalize.less` sets `[hidden] { display: none; }` but bootstrap.min.css set `[hidden] { display: none !important; }` so we also need the `!important` here to be able to override the default hidden behavior on the sphinx rendered scikit-learn.org. See: https://github.com/scikit-learn/scikit-learn/issues/21755 */display: inline-block !important;position: relative;}#sk-container-id-2 div.sk-text-repr-fallback {display: none;}</style><div id=\"sk-container-id-2\" class=\"sk-top-container\"><div class=\"sk-text-repr-fallback\"><pre>KNeighborsClassifier()</pre><b>In a Jupyter environment, please rerun this cell to show the HTML representation or trust the notebook. <br />On GitHub, the HTML representation is unable to render, please try loading this page with nbviewer.org.</b></div><div class=\"sk-container\" hidden><div class=\"sk-item\"><div class=\"sk-estimator sk-toggleable\"><input class=\"sk-toggleable__control sk-hidden--visually\" id=\"sk-estimator-id-2\" type=\"checkbox\" checked><label for=\"sk-estimator-id-2\" class=\"sk-toggleable__label sk-toggleable__label-arrow\">KNeighborsClassifier</label><div class=\"sk-toggleable__content\"><pre>KNeighborsClassifier()</pre></div></div></div></div></div>"
      ],
      "text/plain": [
       "KNeighborsClassifier()"
      ]
     },
     "execution_count": 26,
     "metadata": {},
     "output_type": "execute_result"
    }
   ],
   "source": [
    "#Now we build our model i.e., the classifier\n",
    "model = KNeighborsClassifier(n_neighbors = 5) \n",
    "model.fit(xtrain, ytrain)"
   ]
  },
  {
   "cell_type": "code",
   "execution_count": 27,
   "id": "5b170c5a",
   "metadata": {},
   "outputs": [
    {
     "name": "stdout",
     "output_type": "stream",
     "text": [
      "The accuracy is:  0.89\n"
     ]
    }
   ],
   "source": [
    "#Calculating for accuracy\n",
    "y_pred = model.predict(xtest)\n",
    "acc = accuracy_score(ytest, y_pred)\n",
    "\n",
    "\n",
    "end = dt.now()\n",
    "#print('Total duration of time is: ', str(end - start))\n",
    "\n",
    "print('The accuracy is: ', round(acc, 2))"
   ]
  },
  {
   "cell_type": "code",
   "execution_count": 28,
   "id": "00d5119e",
   "metadata": {},
   "outputs": [
    {
     "name": "stdout",
     "output_type": "stream",
     "text": [
      "The number of selected features is:  22\n"
     ]
    }
   ],
   "source": [
    "#Now we check the number of selected features\n",
    "Nfea = len(sf)\n",
    "print(\"The number of selected features is: \", str(Nfea))"
   ]
  },
  {
   "cell_type": "code",
   "execution_count": 29,
   "id": "ec108eba",
   "metadata": {},
   "outputs": [
    {
     "name": "stdout",
     "output_type": "stream",
     "text": [
      "              precision    recall  f1-score   support\n",
      "\n",
      "           0       1.00      0.71      0.83         7\n",
      "           1       0.86      1.00      0.92        12\n",
      "\n",
      "    accuracy                           0.89        19\n",
      "   macro avg       0.93      0.86      0.88        19\n",
      "weighted avg       0.91      0.89      0.89        19\n",
      "\n"
     ]
    }
   ],
   "source": [
    "f_mea = classification_report(ytest, y_pred)\n",
    "print(f_mea)"
   ]
  },
  {
   "cell_type": "code",
   "execution_count": 30,
   "id": "e9e217e6",
   "metadata": {},
   "outputs": [],
   "source": [
    "cm = confusion_matrix(ytest, y_pred)"
   ]
  },
  {
   "cell_type": "code",
   "execution_count": 31,
   "id": "8b9ad0c7",
   "metadata": {},
   "outputs": [
    {
     "data": {
      "image/png": "[encoded data removed]",
      "text/plain": [
       "<Figure size 1000x800 with 2 Axes>"
      ]
     },
     "metadata": {},
     "output_type": "display_data"
    }
   ],
   "source": [
    "plt.figure(figsize=(10, 8))\n",
    "ax = sns.heatmap(cm, annot = True, fmt=\"d\", xticklabels=[\"Normal\", \"Tumor\"], \n",
    "                 yticklabels=[\"Normal\", \"Tumor\"])\n",
    "ax.set(title=\"Confusion Matrix\");"
   ]
  },
  {
   "cell_type": "code",
   "execution_count": 32,
   "id": "4695f567",
   "metadata": {},
   "outputs": [
    {
     "data": {
      "image/png": "[encoded data removed]",
      "text/plain": [
       "<Figure size 600x300 with 1 Axes>"
      ]
     },
     "metadata": {},
     "output_type": "display_data"
    }
   ],
   "source": [
    "\n",
    "curve = fmdl['c']\n",
    "curve = curve.reshape(np.size(curve, 1))\n",
    "x = np.arange(0,options['T'], 1.0)+1.0\n",
    "\n",
    "Fig, ax = plt.subplots(figsize = (6,3))\n",
    "#ax.plot(x, curve, 'o-')\n",
    "plt.plot(x, curve)\n",
    "plt.xlabel('Number of Iterations', fontsize = 10)\n",
    "plt.ylabel('Fitness', fontsize = 10)\n",
    "plt.title('Convergence Curve', fontsize = 12)\n",
    "plt.grid()\n",
    "plt.show()"
   ]
  },
  {
   "cell_type": "code",
   "execution_count": null,
   "id": "4ff16946",
   "metadata": {},
   "outputs": [],
   "source": []
  }
 ],
 "metadata": {
  "kernelspec": {
   "display_name": "Python 3 (ipykernel)",
   "language": "python",
   "name": "python3"
  },
  "language_info": {
   "codemirror_mode": {
    "name": "ipython",
    "version": 3
   },
   "file_extension": ".py",
   "mimetype": "text/x-python",
   "name": "python",
   "nbconvert_exporter": "python",
   "pygments_lexer": "ipython3",
   "version": "3.9.13"
  }
 },
 "nbformat": 4,
 "nbformat_minor": 5
}
